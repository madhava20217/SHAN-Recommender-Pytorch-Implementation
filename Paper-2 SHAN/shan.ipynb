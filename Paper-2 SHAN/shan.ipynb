{
 "cells": [
  {
   "cell_type": "markdown",
   "metadata": {},
   "source": [
    "# Sequential Recommender System based on Hierarchical Attention Network (SHAN)\n",
    "\n",
    "Datasets:\n",
    "1. TMall\n",
    "2. Gowalla"
   ]
  },
  {
   "cell_type": "code",
   "execution_count": 41,
   "metadata": {},
   "outputs": [],
   "source": [
    "import gzip\n",
    "import pandas as pd\n",
    "import torch\n",
    "import datetime\n",
    "from tqdm import tqdm\n",
    "import numpy as np\n",
    "\n",
    "tqdm.pandas()\n",
    "\n",
    "DATASET_LOC = \"./Datasets/\"\n",
    "GOWALLA = DATASET_LOC + 'Gowalla/'\n",
    "TMALL = DATASET_LOC + 'Tmall/'\n",
    "DEVICE = torch.device(\"cuda\" if torch.cuda.is_available() else \"cpu\")"
   ]
  },
  {
   "cell_type": "code",
   "execution_count": 43,
   "metadata": {},
   "outputs": [
    {
     "name": "stderr",
     "output_type": "stream",
     "text": [
      "100%|██████████| 6442892/6442892 [00:42<00:00, 152782.20it/s]\n"
     ]
    }
   ],
   "source": [
    "# # Preprocessing Gowalla\n",
    "\n",
    "# user_locs = pd.read_csv(GOWALLA + 'loc-gowalla_totalCheckins.txt.gz',\n",
    "#                         delim_whitespace= True,\n",
    "#                         header = None\n",
    "#                         )\n",
    "# user_locs.columns = ['user', 'timestamp', 'latitude', 'longitude', 'location_id']\n",
    "# user_locs['timestamp'] = user_locs['timestamp'].progress_apply(lambda x: datetime.datetime.strptime(x, \"%Y-%m-%dT%H:%M:%SZ\"))\n",
    "# user_locs.to_csv(GOWALLA + 'user_locs.csv', index = False)"
   ]
  },
  {
   "cell_type": "code",
   "execution_count": 49,
   "metadata": {},
   "outputs": [],
   "source": [
    "# edges = pd.read_csv(GOWALLA + 'loc-gowalla_edges.txt.gz',\n",
    "#                     delim_whitespace=True,\n",
    "#                     header = None)\n",
    "# edges.columns = ['From', 'To']\n",
    "# edges.to_csv(GOWALLA + \"edges.csv\", index = False)"
   ]
  },
  {
   "cell_type": "code",
   "execution_count": 50,
   "metadata": {},
   "outputs": [],
   "source": [
    "edges = pd.read_csv(GOWALLA + \"edges.csv\")\n",
    "user_locs = pd.read_csv(GOWALLA + 'user_locs.csv')"
   ]
  },
  {
   "cell_type": "code",
   "execution_count": 55,
   "metadata": {},
   "outputs": [
    {
     "data": {
      "text/plain": [
       "5561957"
      ]
     },
     "execution_count": 55,
     "metadata": {},
     "output_type": "execute_result"
    }
   ],
   "source": [
    "len(user_locs['timestamp'].unique())"
   ]
  },
  {
   "cell_type": "code",
   "execution_count": null,
   "metadata": {},
   "outputs": [],
   "source": []
  }
 ],
 "metadata": {
  "kernelspec": {
   "display_name": "Python 3.11.3 ('torchnew')",
   "language": "python",
   "name": "python3"
  },
  "language_info": {
   "codemirror_mode": {
    "name": "ipython",
    "version": 3
   },
   "file_extension": ".py",
   "mimetype": "text/x-python",
   "name": "python",
   "nbconvert_exporter": "python",
   "pygments_lexer": "ipython3",
   "version": "3.11.3"
  },
  "orig_nbformat": 4,
  "vscode": {
   "interpreter": {
    "hash": "aae2c75324e7fdf5ebd22146e2daffaa477f8ea149f0e685be4c317c2939a685"
   }
  }
 },
 "nbformat": 4,
 "nbformat_minor": 2
}
